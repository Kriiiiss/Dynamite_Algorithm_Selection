{
 "cells": [
  {
   "cell_type": "code",
   "execution_count": 1,
   "id": "ddea530e-6be0-41c5-9465-167ce81f9d5a",
   "metadata": {},
   "outputs": [],
   "source": [
    "import numpy as np\n",
    "import pandas as pd\n",
    "\n",
    "from sklearn.metrics import accuracy_score, precision_recall_fscore_support, roc_auc_score, confusion_matrix\n",
    "from sklearn.preprocessing import label_binarize\n",
    "\n",
    "import torch\n",
    "import torch.nn as nn\n",
    "import torch.optim as optim\n",
    "import torch.nn.functional as F\n",
    "from torch.utils.data import DataLoader, TensorDataset\n",
    "\n",
    "import time"
   ]
  },
  {
   "cell_type": "code",
   "execution_count": 2,
   "id": "ac054ea5-7fdd-4616-856d-8a5f56d2d74f",
   "metadata": {},
   "outputs": [],
   "source": [
    "# head = {\n",
    "#             \"model\" : '',\n",
    "#             \"attack_model\": '',\n",
    "#             'epsilon': '',\n",
    "#             'Accuracy': '',\n",
    "#             'Macro Precision': '',\n",
    "#             'Weighted Precision': '',\n",
    "#             'Macro Recall': '',\n",
    "#             'Weighted Recall': '',\n",
    "#             'Macro F1': '',\n",
    "#             'Weighted F1': '',\n",
    "#             # 'Macro AUC': '',\n",
    "#             # 'Weighted AUC': '',\n",
    "#             'TPR': '',\n",
    "#             'FNR': '',\n",
    "#             'TNR': '',\n",
    "#             'FPR': '',\n",
    "#         }\n",
    "# head = pd.DataFrame([head])\n",
    "# head.to_csv(\"/home/jovyan/Sample_Based_Extension/WUSTL/WUSTL_Defense/Adversarial_Training/interpolated.csv\", mode='a', index=False)\n"
   ]
  },
  {
   "cell_type": "code",
   "execution_count": 3,
   "id": "15e4b2a1-406e-4f69-9a23-4f1a87c2633a",
   "metadata": {},
   "outputs": [],
   "source": [
    "# def calculate_performance_metrics(X_test, y_true, model, model_name, attack_name, eps):\n",
    "#     model.eval()\n",
    "#     device = torch.device('cuda' if torch.cuda.is_available() else 'cpu')\n",
    "#     model.to(device)\n",
    "    \n",
    "#     all_preds = []\n",
    "#     all_labels = []\n",
    "#     probabilities = []\n",
    "\n",
    "#     num_classes = len(np.unique(y_true))\n",
    "    \n",
    "#     X_test_tensor = torch.tensor(X_test, dtype=torch.float32)\n",
    "#     y_test_tensor = torch.tensor(y_test, dtype=torch.long)\n",
    "#     test_dataset = TensorDataset(X_test_tensor, y_test_tensor)\n",
    "#     test_loader = DataLoader(dataset=test_dataset)\n",
    "\n",
    "#     with torch.no_grad():\n",
    "        \n",
    "#         for inputs, labels in test_loader:\n",
    "#             inputs, labels = inputs.to(device), labels.to(device)\n",
    "#             outputs = model(inputs)\n",
    "#             preds = torch.argmax(outputs, dim=1)\n",
    "#             all_preds.extend(preds.cpu().numpy())\n",
    "#             all_labels.extend(labels.cpu().numpy())\n",
    "#             probabilities.extend(torch.nn.functional.softmax(outputs, dim=1).cpu().numpy())\n",
    "        \n",
    "#         all_preds = np.array(all_preds)\n",
    "#         all_labels = np.array(all_labels)\n",
    "#         probabilities = np.array(probabilities)\n",
    "        \n",
    "#         accuracy = accuracy_score(all_labels, all_preds)\n",
    "\n",
    "#         precision_macro, recall_macro, f1_macro, _ = precision_recall_fscore_support(all_labels, all_preds, average='macro')\n",
    "#         precision_weighted, recall_weighted, f1_weighted, _ = precision_recall_fscore_support(all_labels, all_preds, average='weighted')\n",
    "    \n",
    "#         # macro_auc = roc_auc_score(label_binarize(all_labels, classes=range(num_classes)), probabilities[:,1], average='macro')\n",
    "#         # weighted_auc = roc_auc_score(label_binarize(all_labels, classes=range(num_classes)), probabilities[:,1], average='weighted')\n",
    "\n",
    "#         cm = confusion_matrix(all_labels, all_preds)\n",
    "\n",
    "#         def calculate_class_metrics_macro(cm, class_index):\n",
    "#             TP = cm[class_index, class_index]\n",
    "#             FP = cm[:, class_index].sum() - TP\n",
    "#             FN = cm[class_index, :].sum() - TP\n",
    "#             TN = cm.sum() - (TP + FP + FN)\n",
    "            \n",
    "#             TPR = TP / (TP + FN) if (TP + FN) != 0 else 0  \n",
    "#             TNR = TN / (TN + FP) if (TN + FP) != 0 else 0  \n",
    "#             FPR = FP / (FP + TN) if (FP + TN) != 0 else 0  \n",
    "#             FNR = FN / (FN + TP) if (FN + TP) != 0 else 0  \n",
    "            \n",
    "#             return TPR, TNR, FPR, FNR\n",
    "            \n",
    "#         metrics = np.array([calculate_class_metrics_macro(cm, i) for i in range(num_classes)])\n",
    "#         TPR_macro, TNR_macro, FPR_macro, FNR_macro = np.mean(metrics, axis=0)\n",
    "\n",
    "#         print(f\"Accuracy: {accuracy}\")\n",
    "        \n",
    "#         print(\"\\nmacro\")\n",
    "#         print(f\"Precision: {precision_macro}\\nRecall: {recall_macro}\\nF1 Score: {f1_macro}\")\n",
    "    \n",
    "#         print(\"\\nweighted\")\n",
    "#         print(f\"Precision: {precision_weighted}\\nRecall: {recall_weighted}\\nF1 Score: {f1_weighted}\")\n",
    "#         print()\n",
    "        \n",
    "#         print(f\"Mean FNR: {FNR_macro}\\nMean TNR: {TNR_macro}\\nMean FPR: {FPR_macro}\\nMean TPR: {TPR_macro}\")\n",
    "\n",
    "#         new_row = {\n",
    "#             \"model\" : model_name,\n",
    "#             \"attack_model\" : attack_name,\n",
    "#             'epsilon': eps,\n",
    "#             'Accuracy': accuracy,\n",
    "#             'Macro Precision': precision_macro,\n",
    "#             'Weighted Precision': precision_weighted,\n",
    "#             'Macro Recall': recall_macro,\n",
    "#             'Weighted Recall': recall_weighted,\n",
    "#             'Macro F1': f1_macro,\n",
    "#             'Weighted F1': f1_weighted,\n",
    "#             # 'Macro AUC': macro_auc,\n",
    "#             # 'Weighted AUC': weighted_auc,\n",
    "#             'TPR': TPR_macro,\n",
    "#             'FNR': FNR_macro,\n",
    "#             'TNR': TNR_macro,\n",
    "#             'FPR': FPR_macro,\n",
    "#         }\n",
    "#         new_row_df = pd.DataFrame([new_row])\n",
    "#         new_row_df.to_csv(\"/home/jovyan/Sample_Based_Extension/WUSTL/WUSTL_Defense/Adversarial_Training/interpolated.csv\", mode='a', index=False, header=False)\n",
    "\n"
   ]
  },
  {
   "cell_type": "code",
   "execution_count": 4,
   "id": "184648da-cc80-4b4c-805d-5d9faec82899",
   "metadata": {},
   "outputs": [],
   "source": [
    "def calculate_performance_metrics(X_test, y_test, model, model_name, attack_name, eps):\n",
    "    model.eval()\n",
    "    device = torch.device('cuda' if torch.cuda.is_available() else 'cpu')\n",
    "    model.to(device)\n",
    "    \n",
    "    all_preds = []\n",
    "    all_labels = []\n",
    "    probabilities = []\n",
    "\n",
    "    num_classes = len(np.unique(y_test))\n",
    "    \n",
    "    X_test_tensor = torch.tensor(X_test, dtype=torch.float32)\n",
    "    y_test_tensor = torch.tensor(y_test, dtype=torch.long)\n",
    "    test_dataset = TensorDataset(X_test_tensor, y_test_tensor)\n",
    "    test_loader = DataLoader(dataset=test_dataset)\n",
    "\n",
    "    with torch.no_grad():\n",
    "        \n",
    "        for inputs, labels in test_loader:\n",
    "            inputs, labels = inputs.to(device), labels.to(device)\n",
    "            outputs = model(inputs)\n",
    "            preds = torch.argmax(outputs, dim=1)\n",
    "            all_preds.extend(preds.cpu().numpy())\n",
    "            all_labels.extend(labels.cpu().numpy())\n",
    "            probabilities.extend(torch.nn.functional.softmax(outputs, dim=1).cpu().numpy())\n",
    "        \n",
    "        all_preds = np.array(all_preds)\n",
    "        all_labels = np.array(all_labels)\n",
    "        probabilities = np.array(probabilities)\n",
    "\n",
    "        np.save(f\"/home/jovyan/Sample_Based_Extension/WUSTL/WUSTL_Defense_Label/WUSTL_Def2/y_pred_{attack_name}{eps}_Def2.npy\", all_preds)\n",
    "\n",
    "        "
   ]
  },
  {
   "cell_type": "code",
   "execution_count": 5,
   "id": "3dc5288c-f704-4c1e-8b20-f7df5fcf0220",
   "metadata": {},
   "outputs": [],
   "source": [
    "x_test = np.load('/home/jovyan/Sample_Based_Extension/WUSTL/x_test.npy')\n",
    "x_train = np.load('/home/jovyan/Sample_Based_Extension/WUSTL/x_train.npy')\n",
    "x_val = np.load('/home/jovyan/Sample_Based_Extension/WUSTL/x_val.npy')\n",
    "y_test = np.load('/home/jovyan/Sample_Based_Extension/WUSTL/y_test.npy')\n",
    "y_train = np.load('/home/jovyan/Sample_Based_Extension/WUSTL/y_train.npy')\n",
    "y_val = np.load('/home/jovyan/Sample_Based_Extension/WUSTL/y_val.npy')"
   ]
  },
  {
   "cell_type": "code",
   "execution_count": 6,
   "id": "9b4e66be-bf25-4a39-b3ef-4d0d8b807d52",
   "metadata": {},
   "outputs": [
    {
     "name": "stdout",
     "output_type": "stream",
     "text": [
      "Using cuda device\n"
     ]
    }
   ],
   "source": [
    "device = torch.device(\"cuda\" if torch.cuda.is_available() else \"cpu\")\n",
    "print(f\"Using {device} device\")"
   ]
  },
  {
   "cell_type": "code",
   "execution_count": 7,
   "id": "b03857e0-e780-4fa8-96f3-e1399d7f2f14",
   "metadata": {},
   "outputs": [],
   "source": [
    "input_shape = x_train.shape[1]\n",
    "output_shape = len(np.unique(y_train))"
   ]
  },
  {
   "cell_type": "code",
   "execution_count": 8,
   "id": "3f9ac046-77b7-4630-a4a8-fe44438ac801",
   "metadata": {},
   "outputs": [],
   "source": [
    "x_train_tensor = torch.tensor(x_train, dtype=torch.float32).to(device)\n",
    "y_train_tensor = torch.tensor(y_train, dtype=torch.long).to(device)\n",
    "\n",
    "x_val_tensor = torch.tensor(x_val, dtype=torch.float32).to(device)\n",
    "y_val_tensor = torch.tensor(y_val, dtype=torch.long).to(device)\n",
    "\n",
    "train_dataset = TensorDataset(x_train_tensor, y_train_tensor)\n",
    "train_loader = DataLoader(train_dataset, batch_size=100, shuffle=True)\n",
    "\n",
    "val_dataset = TensorDataset(x_val_tensor, y_val_tensor)\n",
    "val_loader = DataLoader(val_dataset, batch_size=100, shuffle=True)"
   ]
  },
  {
   "cell_type": "code",
   "execution_count": 9,
   "id": "884d3dd2-ab96-48dc-85be-71553ba9454c",
   "metadata": {},
   "outputs": [],
   "source": [
    "import torch\n",
    "import torch.nn as nn\n",
    "import torch.optim as optim\n",
    "import torch.nn.functional as F\n",
    "\n",
    "class DNNModel(nn.Module):\n",
    "    def __init__(self, input_size, output_size):\n",
    "        super(DNNModel, self).__init__()\n",
    "        self.fc1 = nn.Linear(input_size, 50)\n",
    "        self.fc2 = nn.Linear(50, 30)\n",
    "        self.fc3 = nn.Linear(30, 20)\n",
    "        self.fc4 = nn.Linear(20, output_size)\n",
    "\n",
    "    def forward(self, x):\n",
    "        x = F.relu(self.fc1(x))\n",
    "        x = F.relu(self.fc2(x))\n",
    "        x = F.relu(self.fc3(x))\n",
    "        x = self.fc4(x)\n",
    "        return x\n"
   ]
  },
  {
   "cell_type": "code",
   "execution_count": 10,
   "id": "bab09249-761d-49d3-8861-1b938ad03f48",
   "metadata": {},
   "outputs": [],
   "source": [
    "# Adversarial training function with interpolation\n",
    "def interpolated_adversarial_training(model, train_loader, optimizer, epoch, device, eps=0.3, alpha=2/255, iters=40):\n",
    "    model.train()\n",
    "    loss_fn = nn.CrossEntropyLoss()\n",
    "\n",
    "    for batch_idx, (data, target) in enumerate(train_loader):\n",
    "        data, target = data.to(device), target.to(device)\n",
    "        \n",
    "        # Create adversarial examples\n",
    "        data_adv = data.clone().detach().requires_grad_(True).to(device)\n",
    "        outputs = model(data_adv)\n",
    "        loss = loss_fn(outputs, target)\n",
    "        loss.backward()\n",
    "        data_adv = data_adv + alpha * data_adv.grad.sign()\n",
    "        eta = torch.clamp(data_adv - data, min=-eps, max=eps)\n",
    "        data_adv = torch.clamp(data + eta, min=0, max=1).detach_()\n",
    "\n",
    "        # Interpolation\n",
    "        lam = np.random.beta(1.0, 1.0)\n",
    "        data_mixed = lam * data + (1 - lam) * data_adv\n",
    "        target_mixed = lam * target + (1 - lam) * target\n",
    "\n",
    "        optimizer.zero_grad()\n",
    "        output = model(data_mixed)\n",
    "        target_mixed = target_mixed.long()\n",
    "        \n",
    "        loss = loss_fn(output, target_mixed)\n",
    "        loss.backward()\n",
    "        optimizer.step()\n",
    "\n",
    "        if batch_idx % 1000 == 0:\n",
    "            print(f'Train Epoch: {epoch} [{batch_idx * len(data)}/{len(train_loader.dataset)}'\n",
    "                  f' ({100. * batch_idx / len(train_loader):.0f}%)]\\tLoss: {loss.item():.6f}')\n",
    "\n",
    "# Model initialization\n",
    "device = torch.device(\"cuda\" if torch.cuda.is_available() else \"cpu\")\n",
    "input_size = input_shape  # Replace with your input shape\n",
    "output_size = output_shape  # Replace with your output shape\n",
    "model = DNNModel(input_size=input_size, output_size=output_size).to(device)\n",
    "\n",
    "# Compile model\n",
    "optimizer = optim.Adam(model.parameters(), lr=0.001)\n",
    "loss_function = nn.CrossEntropyLoss()\n",
    "\n",
    "# Early stopping variables\n",
    "min_delta = 0.001\n",
    "patience = 5\n",
    "patience_counter = 0\n",
    "best_loss = float('inf')\n",
    "\n"
   ]
  },
  {
   "cell_type": "code",
   "execution_count": 11,
   "id": "f71f5c04-8053-4612-8010-05453cd87061",
   "metadata": {},
   "outputs": [
    {
     "name": "stdout",
     "output_type": "stream",
     "text": [
      "Train Epoch: 0 [0/716256 (0%)]\tLoss: 1.670694\n",
      "Train Epoch: 0 [100000/716256 (14%)]\tLoss: 0.000335\n",
      "Train Epoch: 0 [200000/716256 (28%)]\tLoss: 0.000224\n",
      "Train Epoch: 0 [300000/716256 (42%)]\tLoss: 0.000687\n",
      "Train Epoch: 0 [400000/716256 (56%)]\tLoss: 0.000289\n",
      "Train Epoch: 0 [500000/716256 (70%)]\tLoss: 0.000081\n",
      "Train Epoch: 0 [600000/716256 (84%)]\tLoss: 0.000020\n",
      "Train Epoch: 0 [700000/716256 (98%)]\tLoss: 0.000001\n",
      "Epoch 1, Validation Loss: 0.0010, Validation Accuracy: 0.9999\n",
      "Train Epoch: 1 [0/716256 (0%)]\tLoss: 0.000367\n",
      "Train Epoch: 1 [100000/716256 (14%)]\tLoss: 0.001277\n",
      "Train Epoch: 1 [200000/716256 (28%)]\tLoss: 0.000297\n",
      "Train Epoch: 1 [300000/716256 (42%)]\tLoss: 0.001023\n",
      "Train Epoch: 1 [400000/716256 (56%)]\tLoss: 0.001421\n",
      "Train Epoch: 1 [500000/716256 (70%)]\tLoss: 0.000197\n",
      "Train Epoch: 1 [600000/716256 (84%)]\tLoss: 0.000000\n",
      "Train Epoch: 1 [700000/716256 (98%)]\tLoss: 0.000380\n",
      "Epoch 2, Validation Loss: 0.0006, Validation Accuracy: 0.9999\n",
      "Train Epoch: 2 [0/716256 (0%)]\tLoss: 0.000602\n",
      "Train Epoch: 2 [100000/716256 (14%)]\tLoss: 0.000010\n",
      "Train Epoch: 2 [200000/716256 (28%)]\tLoss: 0.000228\n",
      "Train Epoch: 2 [300000/716256 (42%)]\tLoss: 0.000218\n",
      "Train Epoch: 2 [400000/716256 (56%)]\tLoss: 0.000413\n",
      "Train Epoch: 2 [500000/716256 (70%)]\tLoss: 0.000384\n",
      "Train Epoch: 2 [600000/716256 (84%)]\tLoss: 0.000849\n",
      "Train Epoch: 2 [700000/716256 (98%)]\tLoss: 0.000000\n",
      "Epoch 3, Validation Loss: 0.0005, Validation Accuracy: 0.9999\n",
      "Train Epoch: 3 [0/716256 (0%)]\tLoss: 0.000859\n",
      "Train Epoch: 3 [100000/716256 (14%)]\tLoss: 0.000085\n",
      "Train Epoch: 3 [200000/716256 (28%)]\tLoss: 0.000953\n",
      "Train Epoch: 3 [300000/716256 (42%)]\tLoss: 0.041743\n",
      "Train Epoch: 3 [400000/716256 (56%)]\tLoss: 0.000268\n",
      "Train Epoch: 3 [500000/716256 (70%)]\tLoss: 0.000000\n",
      "Train Epoch: 3 [600000/716256 (84%)]\tLoss: 0.000001\n",
      "Train Epoch: 3 [700000/716256 (98%)]\tLoss: 0.000492\n",
      "Epoch 4, Validation Loss: 0.0007, Validation Accuracy: 0.9999\n",
      "Train Epoch: 4 [0/716256 (0%)]\tLoss: 0.001045\n",
      "Train Epoch: 4 [100000/716256 (14%)]\tLoss: 0.000000\n",
      "Train Epoch: 4 [200000/716256 (28%)]\tLoss: 0.000001\n",
      "Train Epoch: 4 [300000/716256 (42%)]\tLoss: 0.000007\n",
      "Train Epoch: 4 [400000/716256 (56%)]\tLoss: 0.000004\n",
      "Train Epoch: 4 [500000/716256 (70%)]\tLoss: 0.002341\n",
      "Train Epoch: 4 [600000/716256 (84%)]\tLoss: 0.000232\n",
      "Train Epoch: 4 [700000/716256 (98%)]\tLoss: 0.000000\n",
      "Epoch 5, Validation Loss: 0.0006, Validation Accuracy: 0.9999\n",
      "Train Epoch: 5 [0/716256 (0%)]\tLoss: 0.000239\n",
      "Train Epoch: 5 [100000/716256 (14%)]\tLoss: 0.000000\n",
      "Train Epoch: 5 [200000/716256 (28%)]\tLoss: 0.000000\n",
      "Train Epoch: 5 [300000/716256 (42%)]\tLoss: 0.000000\n",
      "Train Epoch: 5 [400000/716256 (56%)]\tLoss: 0.000224\n",
      "Train Epoch: 5 [500000/716256 (70%)]\tLoss: 0.000467\n",
      "Train Epoch: 5 [600000/716256 (84%)]\tLoss: 0.000307\n",
      "Train Epoch: 5 [700000/716256 (98%)]\tLoss: 0.000185\n",
      "Epoch 6, Validation Loss: 0.0005, Validation Accuracy: 0.9999\n",
      "Early stopping triggered\n"
     ]
    }
   ],
   "source": [
    "# Training loop with early stopping and validation evaluation\n",
    "for epoch in range(10):\n",
    "    interpolated_adversarial_training(model, train_loader, optimizer, epoch, device, eps=0.3, alpha=2/255, iters=40)\n",
    "\n",
    "    # Validation\n",
    "    model.eval()\n",
    "    val_train_loss = 0.0\n",
    "    correct_predictions = 0\n",
    "    with torch.no_grad():\n",
    "        for inputs, labels in val_loader:\n",
    "            inputs, labels = inputs.to(device), labels.to(device)\n",
    "            outputs = model(inputs)\n",
    "            loss = loss_function(outputs, labels)\n",
    "            val_train_loss += loss.item()\n",
    "            _, predicted = torch.max(outputs.data, 1)\n",
    "            correct_predictions += (predicted == labels).sum().item()\n",
    "\n",
    "    avg_val_loss = val_train_loss / len(val_loader)\n",
    "    val_accuracy = correct_predictions / len(val_dataset)\n",
    "\n",
    "    print(f\"Epoch {epoch+1}, Validation Loss: {avg_val_loss:.4f}, Validation Accuracy: {val_accuracy:.4f}\")\n",
    "\n",
    "    # Early stopping check using min_delta\n",
    "    if best_loss - avg_val_loss > min_delta:\n",
    "        best_loss = avg_val_loss\n",
    "        patience_counter = 0\n",
    "    else:\n",
    "        patience_counter += 1\n",
    "\n",
    "    if patience_counter >= patience:\n",
    "        print(\"Early stopping triggered\")\n",
    "        break\n"
   ]
  },
  {
   "cell_type": "code",
   "execution_count": 12,
   "id": "a8f8ba48-e84d-42c6-b472-b24b2e15feda",
   "metadata": {},
   "outputs": [],
   "source": [
    "calculate_performance_metrics(x_test, y_test, model, 'DNN', 'baseline', '0')"
   ]
  },
  {
   "cell_type": "code",
   "execution_count": 13,
   "id": "b0575444-678d-4c09-909d-4ec33601e1a5",
   "metadata": {
    "scrolled": true
   },
   "outputs": [],
   "source": [
    "epsilon_values = [0.01, 0.1, 0.2, 0.3]\n",
    "\n",
    "# Iterate over epsilon values\n",
    "for epsilon in epsilon_values:\n",
    "    filename = f'/home/jovyan/Sample_Based_Extension/WUSTL/transfer_attack/x_test_adv_BIM_eps_{epsilon}.npy'\n",
    "    x_test_adv = np.load(filename)\n",
    "\n",
    "    calculate_performance_metrics(x_test_adv, y_test, model, 'DNN', 'BIM', epsilon)\n",
    "\n",
    "for epsilon in epsilon_values:\n",
    "    filename = f'/home/jovyan/Sample_Based_Extension/WUSTL/transfer_attack/x_test_adv_FGSM_eps_{epsilon}.npy'\n",
    "    x_test_adv = np.load(filename)\n",
    "\n",
    "    calculate_performance_metrics(x_test_adv, y_test, model, 'DNN', 'FGSM', epsilon)\n",
    "\n",
    "for epsilon in epsilon_values:\n",
    "    filename = f'/home/jovyan/Sample_Based_Extension/WUSTL/transfer_attack/x_test_adv_PGD_eps_{epsilon}.npy'\n",
    "    x_test_adv = np.load(filename)\n",
    "\n",
    "    calculate_performance_metrics(x_test_adv, y_test, model, 'DNN', 'PGD', epsilon)"
   ]
  },
  {
   "cell_type": "code",
   "execution_count": 14,
   "id": "3f371f08-a89b-47db-9ef5-2ff3a893bec4",
   "metadata": {
    "scrolled": true
   },
   "outputs": [
    {
     "name": "stdout",
     "output_type": "stream",
     "text": [
      "start DF\n",
      "start AutoPGD\n",
      "start ZOO\n"
     ]
    },
    {
     "ename": "FileNotFoundError",
     "evalue": "[Errno 2] No such file or directory: '/home/jovyan/Sample_Based_Extension/WUSTL/transfer_attack/x_test_adv_ZOO_eps_0.npy'",
     "output_type": "error",
     "traceback": [
      "\u001b[0;31m---------------------------------------------------------------------------\u001b[0m",
      "\u001b[0;31mFileNotFoundError\u001b[0m                         Traceback (most recent call last)",
      "Cell \u001b[0;32mIn[14], line 25\u001b[0m\n\u001b[1;32m     23\u001b[0m \u001b[38;5;28;01mfor\u001b[39;00m epsilon \u001b[38;5;129;01min\u001b[39;00m ZOO_epsilon_values:\n\u001b[1;32m     24\u001b[0m     filename \u001b[38;5;241m=\u001b[39m \u001b[38;5;124mf\u001b[39m\u001b[38;5;124m'\u001b[39m\u001b[38;5;124m/home/jovyan/Sample_Based_Extension/WUSTL/transfer_attack/x_test_adv_ZOO_eps_\u001b[39m\u001b[38;5;132;01m{\u001b[39;00mepsilon\u001b[38;5;132;01m}\u001b[39;00m\u001b[38;5;124m.npy\u001b[39m\u001b[38;5;124m'\u001b[39m\n\u001b[0;32m---> 25\u001b[0m     x_test_adv \u001b[38;5;241m=\u001b[39m \u001b[43mnp\u001b[49m\u001b[38;5;241;43m.\u001b[39;49m\u001b[43mload\u001b[49m\u001b[43m(\u001b[49m\u001b[43mfilename\u001b[49m\u001b[43m)\u001b[49m\n\u001b[1;32m     27\u001b[0m     calculate_performance_metrics(x_test_adv, y_test, model, \u001b[38;5;124m'\u001b[39m\u001b[38;5;124mDNN\u001b[39m\u001b[38;5;124m'\u001b[39m, \u001b[38;5;124m'\u001b[39m\u001b[38;5;124mZOO\u001b[39m\u001b[38;5;124m'\u001b[39m, epsilon)\n",
      "File \u001b[0;32m/opt/conda/lib/python3.12/site-packages/numpy/lib/npyio.py:427\u001b[0m, in \u001b[0;36mload\u001b[0;34m(file, mmap_mode, allow_pickle, fix_imports, encoding, max_header_size)\u001b[0m\n\u001b[1;32m    425\u001b[0m     own_fid \u001b[38;5;241m=\u001b[39m \u001b[38;5;28;01mFalse\u001b[39;00m\n\u001b[1;32m    426\u001b[0m \u001b[38;5;28;01melse\u001b[39;00m:\n\u001b[0;32m--> 427\u001b[0m     fid \u001b[38;5;241m=\u001b[39m stack\u001b[38;5;241m.\u001b[39menter_context(\u001b[38;5;28;43mopen\u001b[39;49m\u001b[43m(\u001b[49m\u001b[43mos_fspath\u001b[49m\u001b[43m(\u001b[49m\u001b[43mfile\u001b[49m\u001b[43m)\u001b[49m\u001b[43m,\u001b[49m\u001b[43m \u001b[49m\u001b[38;5;124;43m\"\u001b[39;49m\u001b[38;5;124;43mrb\u001b[39;49m\u001b[38;5;124;43m\"\u001b[39;49m\u001b[43m)\u001b[49m)\n\u001b[1;32m    428\u001b[0m     own_fid \u001b[38;5;241m=\u001b[39m \u001b[38;5;28;01mTrue\u001b[39;00m\n\u001b[1;32m    430\u001b[0m \u001b[38;5;66;03m# Code to distinguish from NumPy binary files and pickles.\u001b[39;00m\n",
      "\u001b[0;31mFileNotFoundError\u001b[0m: [Errno 2] No such file or directory: '/home/jovyan/Sample_Based_Extension/WUSTL/transfer_attack/x_test_adv_ZOO_eps_0.npy'"
     ]
    }
   ],
   "source": [
    "epsilon_values = [0.01, 0.1, 0.2, 0.3]\n",
    "\n",
    "print(\"start DF\")\n",
    "for epsilon in epsilon_values:\n",
    "    filename = f'/home/jovyan/Sample_Based_Extension/WUSTL/transfer_attack/x_test_adv_DF_eps_{epsilon}.npy'\n",
    "    x_test_adv = np.load(filename)\n",
    "\n",
    "    calculate_performance_metrics(x_test_adv, y_test, model, 'DNN', 'DF', epsilon)\n",
    "\n",
    "print(\"start AutoPGD\")\n",
    "for epsilon in epsilon_values:\n",
    "    filename = f'/home/jovyan/Sample_Based_Extension/WUSTL/transfer_attack/x_test_adv_AutoPGD_eps_{epsilon}.npy'\n",
    "    x_test_adv = np.load(filename)\n",
    "\n",
    "    calculate_performance_metrics(x_test_adv, y_test, model, 'DNN', 'AutoPGD', epsilon)\n",
    "\n",
    "\n"
   ]
  },
  {
   "cell_type": "code",
   "execution_count": 15,
   "id": "7b020456-d3dc-4c0b-b474-478fc9d4776c",
   "metadata": {
    "scrolled": true
   },
   "outputs": [
    {
     "name": "stdout",
     "output_type": "stream",
     "text": [
      "start ZOO\n",
      "start CaFA\n",
      "start SINIFGSM\n"
     ]
    }
   ],
   "source": [
    "epsilon_values = [0.01, 0.1, 0.2, 0.3]\n",
    "\n",
    "print(\"start ZOO\")\n",
    "# Iterate over epsilon values\n",
    "for epsilon in epsilon_values:\n",
    "    filename = f'/home/jovyan/Sample_Based_Extension/WUSTL/transfer_attack/x_test_adv_ZOO_eps_{epsilon}.npy'\n",
    "    x_test_adv = np.load(filename)\n",
    "\n",
    "    calculate_performance_metrics(x_test_adv, y_test, model, 'DNN', 'ZOO', epsilon)\n",
    "    \n",
    "print(\"start CaFA\")\n",
    "for epsilon in epsilon_values:\n",
    "    filename = f'/home/jovyan/Sample_Based_Extension/WUSTL/transfer_attack/x_test_adv_CaFA_eps_{epsilon}.npy'\n",
    "    x_test_adv = np.load(filename)\n",
    "\n",
    "    calculate_performance_metrics(x_test_adv, y_test, model, 'DNN', 'CaFA', epsilon)\n",
    "\n",
    "print(\"start SINIFGSM\")\n",
    "for epsilon in epsilon_values:\n",
    "    filename = f'/home/jovyan/Sample_Based_Extension/WUSTL/transfer_attack/x_test_adv_SINIFGSM_eps_{epsilon}.npy'\n",
    "    x_test_adv = np.load(filename)\n",
    "\n",
    "    calculate_performance_metrics(x_test_adv, y_test, model, 'DNN', 'SINIFGSM', epsilon)\n",
    "\n",
    "\n"
   ]
  },
  {
   "cell_type": "code",
   "execution_count": 16,
   "id": "b4af02eb-895e-48e5-b86d-2fc2f6e0fec7",
   "metadata": {},
   "outputs": [
    {
     "name": "stdout",
     "output_type": "stream",
     "text": [
      "start VNIFGSM\n"
     ]
    }
   ],
   "source": [
    "print(\"start VNIFGSM\")\n",
    "# Iterate over epsilon values\n",
    "for epsilon in epsilon_values:\n",
    "    filename = f'/home/jovyan/Sample_Based_Extension/WUSTL/transfer_attack/x_test_adv_VNIFGSM_eps_{epsilon}.npy'\n",
    "    x_test_adv = np.load(filename)\n",
    "\n",
    "    calculate_performance_metrics(x_test_adv, y_test, model, 'DNN', 'VNIFGSM', epsilon)"
   ]
  },
  {
   "cell_type": "code",
   "execution_count": 17,
   "id": "d0fdd08f-c86d-4544-804e-c1bf1c0cf9b8",
   "metadata": {},
   "outputs": [],
   "source": [
    "torch.save(model.state_dict(), \"/home/jovyan/Sample_Based_Extension/WUSTL/WUSTL_Defense/Adversarial_Training/Adversarial_Training_interpolated.pt\")"
   ]
  },
  {
   "cell_type": "code",
   "execution_count": 18,
   "id": "4582f918-af84-4a55-a490-5eb643d6767d",
   "metadata": {},
   "outputs": [
    {
     "name": "stderr",
     "output_type": "stream",
     "text": [
      "/tmp/ipykernel_2732/3866130140.py:1: FutureWarning: You are using `torch.load` with `weights_only=False` (the current default value), which uses the default pickle module implicitly. It is possible to construct malicious pickle data which will execute arbitrary code during unpickling (See https://github.com/pytorch/pytorch/blob/main/SECURITY.md#untrusted-models for more details). In a future release, the default value for `weights_only` will be flipped to `True`. This limits the functions that could be executed during unpickling. Arbitrary objects will no longer be allowed to be loaded via this mode unless they are explicitly allowlisted by the user via `torch.serialization.add_safe_globals`. We recommend you start setting `weights_only=True` for any use case where you don't have full control of the loaded file. Please open an issue on GitHub for any issues related to this experimental feature.\n",
      "  model.load_state_dict(torch.load(\"/home/jovyan/Sample_Based_Extension/UNSW/UNSW_Defense/Adversarial_Training/Adversarial_Training_interpolated.pt\"))\n"
     ]
    },
    {
     "data": {
      "text/plain": [
       "<All keys matched successfully>"
      ]
     },
     "execution_count": 18,
     "metadata": {},
     "output_type": "execute_result"
    }
   ],
   "source": [
    "model.load_state_dict(torch.load(\"/home/jovyan/Sample_Based_Extension/WUSTL/WUSTL_Defense/Adversarial_Training/Adversarial_Training_interpolated.pt\"))"
   ]
  },
  {
   "cell_type": "code",
   "execution_count": 19,
   "id": "a30cd36f-5e72-4543-bb86-c3fb861f2ff0",
   "metadata": {
    "scrolled": true
   },
   "outputs": [],
   "source": [
    "# import time\n",
    "\n",
    "# epsilon_values = [0.01, 0.1, 0.2, 0.3]\n",
    "\n",
    "# start_time = time.time()\n",
    "\n",
    "# for epsilon in epsilon_values:\n",
    "#     filename = f'/home/jovyan/Sample_Based_Extension/WUSTL/transfer_attack/x_test_adv_BIM_eps_{epsilon}.npy'\n",
    "#     x_test_adv = np.load(filename)\n",
    "\n",
    "#     calculate_performance_metrics(x_test_adv, y_test, model, 'DNN', 'BIM', epsilon)\n",
    "\n",
    "# end_time = time.time()\n",
    "# result = end_time - start_time\n",
    "# print(f\"Execution Time: {result:.6f} seconds\")"
   ]
  },
  {
   "cell_type": "code",
   "execution_count": null,
   "id": "14d36bec-7713-4107-b05f-afd7ed39c561",
   "metadata": {},
   "outputs": [],
   "source": []
  }
 ],
 "metadata": {
  "kernelspec": {
   "display_name": "Python 3 (ipykernel)",
   "language": "python",
   "name": "python3"
  },
  "language_info": {
   "codemirror_mode": {
    "name": "ipython",
    "version": 3
   },
   "file_extension": ".py",
   "mimetype": "text/x-python",
   "name": "python",
   "nbconvert_exporter": "python",
   "pygments_lexer": "ipython3",
   "version": "3.12.8"
  }
 },
 "nbformat": 4,
 "nbformat_minor": 5
}
