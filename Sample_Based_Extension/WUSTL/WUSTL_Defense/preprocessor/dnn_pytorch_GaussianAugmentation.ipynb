{
 "cells": [
  {
   "cell_type": "code",
   "execution_count": 1,
   "id": "f31954fa-fe50-444a-839d-d2c83ebd9a26",
   "metadata": {},
   "outputs": [],
   "source": [
    "import numpy as np\n",
    "import pandas as pd\n",
    "\n",
    "from sklearn.metrics import accuracy_score, precision_recall_fscore_support, roc_auc_score, confusion_matrix\n",
    "from sklearn.preprocessing import label_binarize\n",
    "\n",
    "import torch\n",
    "import torch.nn as nn\n",
    "import torch.nn.functional as F\n",
    "import torch.optim as optim\n",
    "from torch.utils.data import DataLoader, TensorDataset"
   ]
  },
  {
   "cell_type": "code",
   "execution_count": 2,
   "id": "5203e812-39ae-47b7-bad5-da896680e9f8",
   "metadata": {},
   "outputs": [],
   "source": [
    "from art.defences.preprocessor.gaussian_augmentation import GaussianAugmentation\n",
    "\n",
    "gaussian_augmenter = GaussianAugmentation()\n",
    "\n",
    "def preprocess(X,y, gaussian_augmenter):\n",
    "    x_test, y_test = gaussian_augmenter(X, y)\n",
    "\n",
    "    return torch.tensor(x_test, dtype=torch.float32), torch.tensor(y_test, dtype=torch.long)\n"
   ]
  },
  {
   "cell_type": "code",
   "execution_count": 3,
   "id": "fb920d75-1c2f-4b3f-9052-69d1a41c780c",
   "metadata": {},
   "outputs": [],
   "source": [
    "# head = {\n",
    "#             \"model\" : '',\n",
    "#             \"attack_model\": '',\n",
    "#             'epsilon': '',\n",
    "#             'Accuracy': '',\n",
    "#             'Macro Precision': '',\n",
    "#             'Weighted Precision': '',\n",
    "#             'Macro Recall': '',\n",
    "#             'Weighted Recall': '',\n",
    "#             'Macro F1': '',\n",
    "#             'Weighted F1': '',\n",
    "#             # 'Macro AUC': '',\n",
    "#             # 'Weighted AUC': '',\n",
    "#             'TPR': '',\n",
    "#             'FNR': '',\n",
    "#             'TNR': '',\n",
    "#             'FPR': '',\n",
    "#         }\n",
    "# head = pd.DataFrame([head])\n",
    "# head.to_csv(\"/home/jovyan/Sample_Based_Extension/WUSTL/WUSTL_Defense/preprocessor/gaussian_augmenter.csv\", mode='a', index=False)\n",
    "\n",
    "\n"
   ]
  },
  {
   "cell_type": "code",
   "execution_count": 4,
   "id": "788429b6-bf70-436f-b9de-8a966a28b078",
   "metadata": {},
   "outputs": [],
   "source": [
    "# def calculate_performance_metrics(X_test, y_test, model, model_name, attack_name, eps):\n",
    "#     model.eval()\n",
    "#     device = torch.device('cuda' if torch.cuda.is_available() else 'cpu')\n",
    "#     model.to(device)\n",
    "    \n",
    "#     all_preds = []\n",
    "#     all_labels = []\n",
    "#     probabilities = []\n",
    "\n",
    "#     num_classes = len(np.unique(y_test))\n",
    "    \n",
    "#     # X_test_tensor = torch.tensor(X_test, dtype=torch.float32).to(device)\n",
    "#     X_test_tensor , y_test_tensor= preprocess(X_test, y_test, gaussian_augmenter)\n",
    "#     X_test_tensor = X_test_tensor.to(device)\n",
    "#     y_test_tensor = y_test_tensor.to(device)\n",
    "\n",
    "#     # X_test_tensor = preprocess(X_test, gaussian_augmenter).to(device)\n",
    "#     # y_test_tensor = torch.tensor(y_test, dtype=torch.long).to(device)\n",
    "    \n",
    "#     test_dataset = TensorDataset(X_test_tensor, y_test_tensor)\n",
    "#     test_loader = DataLoader(dataset=test_dataset)\n",
    "\n",
    "#     with torch.no_grad():\n",
    "        \n",
    "#         for inputs, labels in test_loader:\n",
    "#             inputs, labels = inputs.to(device), labels.to(device)\n",
    "#             outputs = model(inputs)\n",
    "#             preds = torch.argmax(outputs, dim=1)\n",
    "#             all_preds.extend(preds.cpu().numpy())\n",
    "#             all_labels.extend(labels.cpu().numpy())\n",
    "#             probabilities.extend(torch.nn.functional.softmax(outputs, dim=1).cpu().numpy())\n",
    "        \n",
    "#         all_preds = np.array(all_preds)\n",
    "#         all_labels = np.array(all_labels)\n",
    "#         probabilities = np.array(probabilities)\n",
    "        \n",
    "#         accuracy = accuracy_score(all_labels, all_preds)\n",
    "\n",
    "#         precision_macro, recall_macro, f1_macro, _ = precision_recall_fscore_support(all_labels, all_preds, average='macro')\n",
    "#         precision_weighted, recall_weighted, f1_weighted, _ = precision_recall_fscore_support(all_labels, all_preds, average='weighted')\n",
    "    \n",
    "#         # macro_auc = roc_auc_score(label_binarize(all_labels, classes=range(num_classes)), probabilities[:,1], average='macro')\n",
    "#         # weighted_auc = roc_auc_score(label_binarize(all_labels, classes=range(num_classes)), probabilities[:,1], average='weighted')\n",
    "\n",
    "#         cm = confusion_matrix(all_labels, all_preds)\n",
    "\n",
    "#         def calculate_class_metrics_macro(cm, class_index):\n",
    "#             TP = cm[class_index, class_index]\n",
    "#             FP = cm[:, class_index].sum() - TP\n",
    "#             FN = cm[class_index, :].sum() - TP\n",
    "#             TN = cm.sum() - (TP + FP + FN)\n",
    "            \n",
    "#             TPR = TP / (TP + FN) if (TP + FN) != 0 else 0  \n",
    "#             TNR = TN / (TN + FP) if (TN + FP) != 0 else 0  \n",
    "#             FPR = FP / (FP + TN) if (FP + TN) != 0 else 0  \n",
    "#             FNR = FN / (FN + TP) if (FN + TP) != 0 else 0  \n",
    "            \n",
    "#             return TPR, TNR, FPR, FNR\n",
    "            \n",
    "#         metrics = np.array([calculate_class_metrics_macro(cm, i) for i in range(num_classes)])\n",
    "#         TPR_macro, TNR_macro, FPR_macro, FNR_macro = np.mean(metrics, axis=0)\n",
    "\n",
    "#         print(f\"Accuracy: {accuracy}\")\n",
    "        \n",
    "#         print(\"\\nmacro\")\n",
    "#         print(f\"Precision: {precision_macro}\\nRecall: {recall_macro}\\nF1 Score: {f1_macro}\")\n",
    "    \n",
    "#         print(\"\\nweighted\")\n",
    "#         print(f\"Precision: {precision_weighted}\\nRecall: {recall_weighted}\\nF1 Score: {f1_weighted}\")\n",
    "#         print()\n",
    "        \n",
    "#         print(f\"Mean FNR: {FNR_macro}\\nMean TNR: {TNR_macro}\\nMean FPR: {FPR_macro}\\nMean TPR: {TPR_macro}\")\n",
    "\n",
    "#         new_row = {\n",
    "#             \"model\" : model_name,\n",
    "#             \"attack_model\" : attack_name,\n",
    "#             'epsilon': eps,\n",
    "#             'Accuracy': accuracy,\n",
    "#             'Macro Precision': precision_macro,\n",
    "#             'Weighted Precision': precision_weighted,\n",
    "#             'Macro Recall': recall_macro,\n",
    "#             'Weighted Recall': recall_weighted,\n",
    "#             'Macro F1': f1_macro,\n",
    "#             'Weighted F1': f1_weighted,\n",
    "#             # 'Macro AUC': macro_auc,\n",
    "#             # 'Weighted AUC': weighted_auc,\n",
    "#             'TPR': TPR_macro,\n",
    "#             'FNR': FNR_macro,\n",
    "#             'TNR': TNR_macro,\n",
    "#             'FPR': FPR_macro,\n",
    "#         }\n",
    "#         new_row_df = pd.DataFrame([new_row])\n",
    "#         new_row_df.to_csv(\"/home/jovyan/Sample_Based_Extension/WUSTL/WUSTL_Defense/preprocessor/gaussian_augmenter.csv\", mode='a', index=False, header=False)\n",
    "\n",
    "\n"
   ]
  },
  {
   "cell_type": "code",
   "execution_count": 5,
   "id": "50119e67-bf0f-4f72-8457-481db247f287",
   "metadata": {},
   "outputs": [],
   "source": [
    "def calculate_performance_metrics(X_test, y_test, model, model_name, attack_name, eps):\n",
    "    model.eval()\n",
    "    device = torch.device('cuda' if torch.cuda.is_available() else 'cpu')\n",
    "    model.to(device)\n",
    "    \n",
    "    all_preds = []\n",
    "    all_labels = []\n",
    "    probabilities = []\n",
    "\n",
    "    num_classes = len(np.unique(y_test))\n",
    "    \n",
    "    # X_test_tensor = torch.tensor(X_test, dtype=torch.float32).to(device)\n",
    "    X_test_tensor , y_test_tensor= preprocess(X_test, y_test, gaussian_augmenter)\n",
    "    X_test_tensor = X_test_tensor[:len(X_test)] \n",
    "    y_test_tensor = y_test_tensor[:len(y_test)] \n",
    "    X_test_tensor = X_test_tensor.to(device)\n",
    "    y_test_tensor = y_test_tensor.to(device)\n",
    "\n",
    "    # X_test_tensor = preprocess(X_test, gaussian_augmenter).to(device)\n",
    "    # y_test_tensor = torch.tensor(y_test, dtype=torch.long).to(device)\n",
    "    \n",
    "    test_dataset = TensorDataset(X_test_tensor, y_test_tensor)\n",
    "    test_loader = DataLoader(dataset=test_dataset)\n",
    "\n",
    "    with torch.no_grad():\n",
    "        \n",
    "        for inputs, labels in test_loader:\n",
    "            inputs, labels = inputs.to(device), labels.to(device)\n",
    "            outputs = model(inputs)\n",
    "            preds = torch.argmax(outputs, dim=1)\n",
    "            all_preds.extend(preds.cpu().numpy())\n",
    "            all_labels.extend(labels.cpu().numpy())\n",
    "            probabilities.extend(torch.nn.functional.softmax(outputs, dim=1).cpu().numpy())\n",
    "        \n",
    "        all_preds = np.array(all_preds)\n",
    "        all_labels = np.array(all_labels)\n",
    "        probabilities = np.array(probabilities)\n",
    "\n",
    "        np.save(f\"/home/jovyan/Sample_Based_Extension/WUSTL/WUSTL_Defense_Label/WUSTL_Def6/y_pred_{attack_name}{eps}_Def6.npy\", all_preds)\n"
   ]
  },
  {
   "cell_type": "code",
   "execution_count": 6,
   "id": "ba12eda5-1986-49cf-bdd8-2158a9e97d44",
   "metadata": {},
   "outputs": [],
   "source": [
    "x_test = np.load('/home/jovyan/Sample_Based_Extension/WUSTL/x_test.npy')\n",
    "x_train = np.load('/home/jovyan/Sample_Based_Extension/WUSTL/x_train.npy')\n",
    "x_val = np.load('/home/jovyan/Sample_Based_Extension/WUSTL/x_val.npy')\n",
    "y_test = np.load('/home/jovyan/Sample_Based_Extension/WUSTL/y_test.npy')\n",
    "y_train = np.load('/home/jovyan/Sample_Based_Extension/WUSTL/y_train.npy')\n",
    "y_val = np.load('/home/jovyan/Sample_Based_Extension/WUSTL/y_val.npy')"
   ]
  },
  {
   "cell_type": "code",
   "execution_count": 7,
   "id": "c5b0b8a8-9cc1-46c6-978e-a9b3e7d8b57a",
   "metadata": {},
   "outputs": [
    {
     "name": "stdout",
     "output_type": "stream",
     "text": [
      "Using cuda device\n"
     ]
    }
   ],
   "source": [
    "device = torch.device(\"cuda\" if torch.cuda.is_available() else \"cpu\")\n",
    "print(f\"Using {device} device\")"
   ]
  },
  {
   "cell_type": "code",
   "execution_count": 8,
   "id": "a367c986-b049-44c0-afcf-a7649e82cec5",
   "metadata": {},
   "outputs": [],
   "source": [
    "input_shape = x_train.shape[1]\n",
    "output_shape = len(np.unique(y_train))"
   ]
  },
  {
   "cell_type": "code",
   "execution_count": 9,
   "id": "1be14ab9-3b6b-4a1a-8f80-a26d92b9a496",
   "metadata": {},
   "outputs": [],
   "source": [
    "# x_train_tensor = torch.tensor(x_train, dtype=torch.float32).to(device)\n",
    "x_train_tensor , y_train_tensor= preprocess(x_train, y_train, gaussian_augmenter)\n",
    "# y_train_tensor = torch.tensor(y_train, dtype=torch.long).to(device)\n",
    "x_train_tensor = x_train_tensor.to(device)\n",
    "y_train_tensor = y_train_tensor.to(device)\n",
    "\n",
    "# x_val_tensor = torch.tensor(x_val, dtype=torch.float32).to(device)\n",
    "x_val_tensor , y_val_tensor= preprocess(x_val,y_val, gaussian_augmenter)\n",
    "# y_val_tensor = torch.tensor(y_val, dtype=torch.long).to(device)\n",
    "x_val_tensor = x_val_tensor.to(device)\n",
    "y_val_tensor = y_val_tensor.to(device)\n",
    "\n",
    "\n",
    "train_dataset = TensorDataset(x_train_tensor, y_train_tensor)\n",
    "train_loader = DataLoader(train_dataset, batch_size=100, shuffle=True)\n",
    "\n",
    "val_dataset = TensorDataset(x_val_tensor, y_val_tensor)\n",
    "val_loader = DataLoader(val_dataset, batch_size=100, shuffle=True)"
   ]
  },
  {
   "cell_type": "code",
   "execution_count": 10,
   "id": "d90f28f3-fdb5-4ba3-a7a7-57e79f3a7434",
   "metadata": {},
   "outputs": [],
   "source": [
    "class DNNModel(nn.Module):\n",
    "    def __init__(self, input_size, output_size):\n",
    "        super(DNNModel, self).__init__()\n",
    "        self.fc1 = nn.Linear(input_size, 50)\n",
    "        self.fc2 = nn.Linear(50, 30)\n",
    "        self.fc3 = nn.Linear(30, 20)\n",
    "        self.fc4 = nn.Linear(20, output_size)\n",
    "\n",
    "    def forward(self, x):\n",
    "        x = F.relu(self.fc1(x))\n",
    "        x = F.relu(self.fc2(x))\n",
    "        x = F.relu(self.fc3(x))\n",
    "        x = self.fc4(x)\n",
    "        return x\n",
    "\n",
    "model = DNNModel(input_size=input_shape, output_size=output_shape).to(device)\n",
    "\n",
    "# Compile model\n",
    "optimizer = optim.Adam(model.parameters(), lr=0.001)\n",
    "loss_function = nn.CrossEntropyLoss()\n",
    "\n",
    "# Early stopping variables\n",
    "min_delta = 0.001\n",
    "patience = 5\n",
    "patience_counter = 0\n",
    "best_loss = float('inf')"
   ]
  },
  {
   "cell_type": "code",
   "execution_count": 11,
   "id": "399aec70-75df-4869-9405-a134c9f3674a",
   "metadata": {},
   "outputs": [
    {
     "name": "stdout",
     "output_type": "stream",
     "text": [
      "Epoch 1, Training Loss: 0.1234, Validation Loss: 0.1137, Validation Accuracy: 0.9652\n",
      "Epoch 2, Training Loss: 0.1108, Validation Loss: 0.1141, Validation Accuracy: 0.9649\n",
      "Epoch 3, Training Loss: 0.1102, Validation Loss: 0.1129, Validation Accuracy: 0.9655\n",
      "Epoch 4, Training Loss: 0.1100, Validation Loss: 0.1132, Validation Accuracy: 0.9646\n",
      "Epoch 5, Training Loss: 0.1098, Validation Loss: 0.1123, Validation Accuracy: 0.9653\n",
      "Epoch 6, Training Loss: 0.1096, Validation Loss: 0.1121, Validation Accuracy: 0.9655\n",
      "Epoch 7, Training Loss: 0.1095, Validation Loss: 0.1124, Validation Accuracy: 0.9655\n",
      "Epoch 8, Training Loss: 0.1094, Validation Loss: 0.1124, Validation Accuracy: 0.9655\n",
      "Epoch 9, Training Loss: 0.1093, Validation Loss: 0.1123, Validation Accuracy: 0.9655\n",
      "Epoch 10, Training Loss: 0.1092, Validation Loss: 0.1129, Validation Accuracy: 0.9655\n",
      "Early stopping triggered\n"
     ]
    }
   ],
   "source": [
    "for epoch in range(50):\n",
    "    model.train()\n",
    "    train_loss = 0.0\n",
    "    for inputs, labels in train_loader:\n",
    "        inputs, labels = inputs.to(device), labels.to(device)\n",
    "        optimizer.zero_grad()\n",
    "        outputs = model(inputs)\n",
    "        loss = loss_function(outputs, labels)\n",
    "        loss.backward()\n",
    "        optimizer.step()\n",
    "        train_loss += loss.item()\n",
    "\n",
    "    avg_train_loss = train_loss / len(train_loader)\n",
    "\n",
    "    model.eval()\n",
    "    val_train_loss = 0.0\n",
    "    correct_predictions = 0\n",
    "    with torch.no_grad():\n",
    "        for inputs, labels in val_loader:\n",
    "            inputs, labels = inputs.to(device), labels.to(device)\n",
    "            outputs = model(inputs)\n",
    "            loss = loss_function(outputs, labels)\n",
    "            val_train_loss += loss.item()\n",
    "            _, predicted = torch.max(outputs.data, 1)\n",
    "            correct_predictions += (predicted == labels).sum().item()\n",
    "\n",
    "    avg_val_loss = val_train_loss / len(val_loader)\n",
    "    val_accuracy = correct_predictions / len(val_dataset)\n",
    "\n",
    "    print(f\"Epoch {epoch+1}, Training Loss: {avg_train_loss:.4f}, Validation Loss: {avg_val_loss:.4f}, Validation Accuracy: {val_accuracy:.4f}\")\n",
    "\n",
    "    # Early stopping check using min_delta\n",
    "    if best_loss - avg_val_loss > min_delta:\n",
    "        best_loss = avg_val_loss\n",
    "        patience_counter = 0\n",
    "    else:\n",
    "        patience_counter += 1\n",
    "\n",
    "    if patience_counter >= patience:\n",
    "        print(\"Early stopping triggered\")\n",
    "        break"
   ]
  },
  {
   "cell_type": "code",
   "execution_count": 12,
   "id": "acf92a0d-c420-41f2-a1e5-86952c0a1e85",
   "metadata": {},
   "outputs": [],
   "source": [
    "calculate_performance_metrics(x_test, y_test, model, 'DNN', 'baseline', '0')"
   ]
  },
  {
   "cell_type": "code",
   "execution_count": 13,
   "id": "61f6e444-d425-4410-8a4d-9ca66299ed11",
   "metadata": {
    "scrolled": true
   },
   "outputs": [
    {
     "name": "stdout",
     "output_type": "stream",
     "text": [
      "start BIM\n",
      "start FGSM\n",
      "start PGD\n",
      "start DF\n"
     ]
    }
   ],
   "source": [
    "epsilon_values = [0.01, 0.1, 0.2, 0.3]\n",
    "\n",
    "# Iterate over epsilon values\n",
    "print(\"start BIM\")\n",
    "for epsilon in epsilon_values:\n",
    "    filename = f'/home/jovyan/Sample_Based_Extension/WUSTL/transfer_attack/x_test_adv_BIM_eps_{epsilon}.npy'\n",
    "    x_test_adv = np.load(filename)\n",
    "\n",
    "    calculate_performance_metrics(x_test_adv, y_test, model, 'DNN', 'BIM', epsilon)\n",
    "\n",
    "print(\"start FGSM\")\n",
    "for epsilon in epsilon_values:\n",
    "    filename = f'/home/jovyan/Sample_Based_Extension/WUSTL/transfer_attack/x_test_adv_FGSM_eps_{epsilon}.npy'\n",
    "    x_test_adv = np.load(filename)\n",
    "\n",
    "    calculate_performance_metrics(x_test_adv, y_test, model, 'DNN', 'FGSM', epsilon)\n",
    "\n",
    "print(\"start PGD\")\n",
    "for epsilon in epsilon_values:\n",
    "    filename = f'/home/jovyan/Sample_Based_Extension/WUSTL/transfer_attack/x_test_adv_PGD_eps_{epsilon}.npy'\n",
    "    x_test_adv = np.load(filename)\n",
    "\n",
    "    calculate_performance_metrics(x_test_adv, y_test, model, 'DNN', 'PGD', epsilon)\n",
    "\n",
    "print(\"start DF\")\n",
    "for epsilon in epsilon_values:\n",
    "    filename = f'/home/jovyan/Sample_Based_Extension/WUSTL/transfer_attack/x_test_adv_DF_eps_{epsilon}.npy'\n",
    "    x_test_adv = np.load(filename)\n",
    "\n",
    "    calculate_performance_metrics(x_test_adv, y_test, model, 'DNN', 'DF', epsilon)"
   ]
  },
  {
   "cell_type": "code",
   "execution_count": 14,
   "id": "b23b3c64-48e0-4e03-b1aa-950be6a915b1",
   "metadata": {
    "scrolled": true
   },
   "outputs": [
    {
     "name": "stdout",
     "output_type": "stream",
     "text": [
      "start AutoPGD\n",
      "start ZOO\n"
     ]
    }
   ],
   "source": [
    "epsilon_values = [0.01, 0.1, 0.2, 0.3]\n",
    "\n",
    "# Iterate over epsilon values\n",
    "print(\"start AutoPGD\")\n",
    "for epsilon in epsilon_values:\n",
    "    filename = f'/home/jovyan/Sample_Based_Extension/WUSTL/transfer_attack/x_test_adv_AutoPGD_eps_{epsilon}.npy'\n",
    "    x_test_adv = np.load(filename)\n",
    "\n",
    "    calculate_performance_metrics(x_test_adv, y_test, model, 'DNN', 'AutoPGD', epsilon)\n",
    "\n",
    "\n",
    "print(\"start ZOO\")\n",
    "# Iterate over epsilon values\n",
    "for epsilon in epsilon_values:\n",
    "    filename = f'/home/jovyan/Sample_Based_Extension/WUSTL/transfer_attack/x_test_adv_ZOO_eps_{epsilon}.npy'\n",
    "    x_test_adv = np.load(filename)\n",
    "\n",
    "    calculate_performance_metrics(x_test_adv, y_test, model, 'DNN', 'ZOO', epsilon)"
   ]
  },
  {
   "cell_type": "code",
   "execution_count": 15,
   "id": "36eecd74-0987-405a-84ab-1a125aa14608",
   "metadata": {},
   "outputs": [
    {
     "name": "stdout",
     "output_type": "stream",
     "text": [
      "start CaFA\n",
      "start SINIFGSM\n",
      "start VNIFGSM\n"
     ]
    }
   ],
   "source": [
    "epsilon_values = [0.01, 0.1, 0.2, 0.3]\n",
    "\n",
    "print(\"start CaFA\")\n",
    "for epsilon in epsilon_values:\n",
    "    filename = f'/home/jovyan/Sample_Based_Extension/WUSTL/transfer_attack/x_test_adv_CaFA_eps_{epsilon}.npy'\n",
    "    x_test_adv = np.load(filename)\n",
    "\n",
    "    calculate_performance_metrics(x_test_adv, y_test, model, 'DNN', 'CaFA', epsilon)\n",
    "\n",
    "print(\"start SINIFGSM\")\n",
    "for epsilon in epsilon_values:\n",
    "    filename = f'/home/jovyan/Sample_Based_Extension/WUSTL/transfer_attack/x_test_adv_SINIFGSM_eps_{epsilon}.npy'\n",
    "    x_test_adv = np.load(filename)\n",
    "\n",
    "    calculate_performance_metrics(x_test_adv, y_test, model, 'DNN', 'SINIFGSM', epsilon)\n",
    "\n",
    "\n",
    "print(\"start VNIFGSM\")\n",
    "# Iterate over epsilon values\n",
    "for epsilon in epsilon_values:\n",
    "    filename = f'/home/jovyan/Sample_Based_Extension/WUSTL/transfer_attack/x_test_adv_VNIFGSM_eps_{epsilon}.npy'\n",
    "    x_test_adv = np.load(filename)\n",
    "\n",
    "    calculate_performance_metrics(x_test_adv, y_test, model, 'DNN', 'VNIFGSM', epsilon)"
   ]
  },
  {
   "cell_type": "code",
   "execution_count": 16,
   "id": "ba9a6afa-841b-4cce-b048-984869d43150",
   "metadata": {},
   "outputs": [],
   "source": [
    "\n",
    "torch.save(model.state_dict(), \"/home/jovyan/Sample_Based_Extension/WUSTL/WUSTL_Defense/preprocessor/dnn_pytorch_gaussian_augmenter.pt\")"
   ]
  },
  {
   "cell_type": "code",
   "execution_count": 17,
   "id": "e947e8f7-56f0-477f-9650-b93f8997043a",
   "metadata": {},
   "outputs": [],
   "source": [
    "# model.load_state_dict(torch.load(\"/home/jovyan/Sample_Based_Extension/WUSTL/WUSTL_Defense/preprocessor/dnn_pytorch_gaussian_augmenter.pt\"))"
   ]
  },
  {
   "cell_type": "code",
   "execution_count": 18,
   "id": "384aa25a-278d-4cfa-a0ab-c1bca47fac24",
   "metadata": {
    "scrolled": true
   },
   "outputs": [],
   "source": [
    "# import time\n",
    "\n",
    "# epsilon_values = [0.01, 0.1, 0.2, 0.3]\n",
    "\n",
    "# start_time = time.time()\n",
    "\n",
    "# for epsilon in epsilon_values:\n",
    "#     filename = f'/home/jovyan/Sample_Based_Extension/WUSTL/transfer_attack/x_test_adv_BIM_eps_{epsilon}.npy'\n",
    "#     x_test_adv = np.load(filename)\n",
    "\n",
    "#     calculate_performance_metrics(x_test_adv, y_test, model, 'DNN', 'BIM', epsilon)\n",
    "\n",
    "# end_time = time.time()\n",
    "# result = end_time - start_time\n",
    "# print(f\"Execution Time: {result:.6f} seconds\")"
   ]
  },
  {
   "cell_type": "code",
   "execution_count": null,
   "id": "3535e720-52ea-4b30-af1e-060d8ef5c104",
   "metadata": {},
   "outputs": [],
   "source": []
  }
 ],
 "metadata": {
  "kernelspec": {
   "display_name": "Python 3 (ipykernel)",
   "language": "python",
   "name": "python3"
  },
  "language_info": {
   "codemirror_mode": {
    "name": "ipython",
    "version": 3
   },
   "file_extension": ".py",
   "mimetype": "text/x-python",
   "name": "python",
   "nbconvert_exporter": "python",
   "pygments_lexer": "ipython3",
   "version": "3.12.8"
  }
 },
 "nbformat": 4,
 "nbformat_minor": 5
}
