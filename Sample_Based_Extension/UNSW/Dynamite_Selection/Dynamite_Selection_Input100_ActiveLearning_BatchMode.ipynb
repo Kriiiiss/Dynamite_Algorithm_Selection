{
 "cells": [
  {
   "cell_type": "code",
   "execution_count": 1,
   "id": "2a3be285-cd06-4350-b976-b914bf09930a",
   "metadata": {
    "scrolled": true
   },
   "outputs": [
    {
     "data": {
      "text/plain": [
       "array([['baseline', 0, 'Def1-11 Combined', 0.9999916231419081,\n",
       "        0.9951091814583067, array([2, 2, 2, ..., 2, 2, 2])],\n",
       "       ['BIM', 0.01, 'Def1-11 Combined', 0.9999916231419081,\n",
       "        0.9951091814583067, array([2, 2, 2, ..., 2, 2, 2])],\n",
       "       ['BIM', 0.1, 'Def1-11 Combined', 0.9998827239867143,\n",
       "        0.9600649800293866, array([1, 1, 1, ..., 1, 1, 1])],\n",
       "       ['BIM', 0.2, 'Def1-11 Combined', 0.9996984331086939,\n",
       "        0.9305545272093338, array([3, 3, 3, ..., 3, 3, 3])],\n",
       "       ['BIM', 0.3, 'Def1-11 Combined', 0.9984796002563319,\n",
       "        0.7518383136072314, array([5, 5, 5, ..., 5, 5, 5])],\n",
       "       ['FGSM', 0.01, 'Def1-11 Combined', 0.9999916231419081,\n",
       "        0.9951091814583067, array([2, 2, 2, ..., 2, 2, 2])],\n",
       "       ['FGSM', 0.1, 'Def1-11 Combined', 0.9998701586995765,\n",
       "        0.939002641264322, array([1, 1, 1, ..., 1, 1, 1])],\n",
       "       ['FGSM', 0.2, 'Def1-11 Combined', 0.9971518682487759,\n",
       "        0.8894642081911899, array([3, 3, 3, ..., 3, 3, 3])],\n",
       "       ['FGSM', 0.3, 'Def1-11 Combined', 0.9890221274706495,\n",
       "        0.667343477383666, array([3, 3, 3, ..., 3, 3, 3])],\n",
       "       ['PGD', 0.01, 'Def1-11 Combined', 0.9999916231419081,\n",
       "        0.9951091814583067, array([2, 2, 2, ..., 2, 2, 2])],\n",
       "       ['PGD', 0.1, 'Def1-11 Combined', 0.9998827239867143,\n",
       "        0.9600649800293866, array([1, 1, 1, ..., 1, 1, 1])],\n",
       "       ['PGD', 0.2, 'Def1-11 Combined', 0.9996984331086939,\n",
       "        0.9305545272093338, array([3, 3, 3, ..., 3, 3, 3])],\n",
       "       ['PGD', 0.3, 'Def1-11 Combined', 0.9984796002563319,\n",
       "        0.7518383136072314, array([5, 5, 5, ..., 5, 5, 5])],\n",
       "       ['DF', 0.01, 'Def1-11 Combined', 0.9709658098536982,\n",
       "        0.6589883057814664, array([6, 6, 6, ..., 6, 6, 6])],\n",
       "       ['DF', 0.1, 'Def1-11 Combined', 0.9675857476136426,\n",
       "        0.6431945972909034, array([6, 6, 6, ..., 6, 6, 6])],\n",
       "       ['DF', 0.2, 'Def1-11 Combined', 0.9645449481263063,\n",
       "        0.6386977136343791, array([6, 6, 6, ..., 6, 6, 6])],\n",
       "       ['DF', 0.3, 'Def1-11 Combined', 0.9621324129958576,\n",
       "        0.6262090410356648, array([6, 6, 6, ..., 6, 6, 6])],\n",
       "       ['AutoPGD', 0.01, 'Def1-11 Combined', 0.9999916231419081,\n",
       "        0.9951091814583067, array([2, 2, 2, ..., 2, 2, 2])],\n",
       "       ['AutoPGD', 0.1, 'Def1-11 Combined', 0.9999413619933571,\n",
       "        0.9918379201997543, array([3, 3, 3, ..., 3, 3, 3])],\n",
       "       ['AutoPGD', 0.2, 'Def1-11 Combined', 0.999442938936893,\n",
       "        0.9732240280527197, array([3, 3, 3, ..., 3, 3, 3])],\n",
       "       ['AutoPGD', 0.3, 'Def1-11 Combined', 0.9969047509350668,\n",
       "        0.8481570606382333, array([5, 5, 5, ..., 5, 5, 5])],\n",
       "       ['ZOO', 0.01, 'Def1-11 Combined', 0.9999916231419081,\n",
       "        0.9951091814583067, array([6, 6, 6, ..., 6, 6, 6])],\n",
       "       ['ZOO', 0.1, 'Def1-11 Combined', 0.9999916231419081,\n",
       "        0.9951091814583067, array([6, 6, 6, ..., 6, 6, 6])],\n",
       "       ['ZOO', 0.2, 'Def1-11 Combined', 0.9999916231419081,\n",
       "        0.9951091814583067, array([2, 2, 2, ..., 2, 2, 2])],\n",
       "       ['ZOO', 0.3, 'Def1-11 Combined', 0.9999916231419081,\n",
       "        0.9951091814583067, array([2, 2, 2, ..., 2, 2, 2])],\n",
       "       ['CaFA', 0.01, 'Def1-11 Combined', 0.4804379421410412,\n",
       "        0.4768913180980213, array([3, 3, 3, ..., 3, 8, 3])],\n",
       "       ['CaFA', 0.1, 'Def1-11 Combined', 0.7018257362211155,\n",
       "        0.29014496892721886, array([8, 8, 8, ..., 8, 8, 8])],\n",
       "       ['CaFA', 0.2, 'Def1-11 Combined', 0.8194158816852564,\n",
       "        0.3788742775478469, array([8, 8, 8, ..., 8, 8, 8])],\n",
       "       ['CaFA', 0.3, 'Def1-11 Combined', 0.8726256842845954,\n",
       "        0.44369777461121906, array([8, 8, 8, ..., 8, 8, 8])],\n",
       "       ['SINIFGSM', 0.01, 'Def1-11 Combined', 0.9999916231419081,\n",
       "        0.9951091814583067, array([2, 2, 2, ..., 2, 2, 2])],\n",
       "       ['SINIFGSM', 0.1, 'Def1-11 Combined', 0.9999204198481275,\n",
       "        0.972992099384728, array([3, 3, 3, ..., 3, 3, 3])],\n",
       "       ['SINIFGSM', 0.2, 'Def1-11 Combined', 0.9998115206929337,\n",
       "        0.9541710727017328, array([3, 3, 3, ..., 3, 3, 3])],\n",
       "       ['SINIFGSM', 0.3, 'Def1-11 Combined', 0.9984879771144237,\n",
       "        0.757323156471878, array([5, 5, 5, ..., 5, 5, 5])],\n",
       "       ['VNIFGSM', 0.01, 'Def1-11 Combined', 0.9999916231419081,\n",
       "        0.9951091814583067, array([2, 2, 2, ..., 2, 2, 2])],\n",
       "       ['VNIFGSM', 0.1, 'Def1-11 Combined', 0.9998911008448061,\n",
       "        0.9478989179292794, array([1, 1, 1, ..., 1, 1, 1])],\n",
       "       ['VNIFGSM', 0.2, 'Def1-11 Combined', 0.999593722382546,\n",
       "        0.9376604707540797, array([3, 3, 3, ..., 3, 3, 3])],\n",
       "       ['VNIFGSM', 0.3, 'Def1-11 Combined', 0.9995853455244541,\n",
       "        0.9273633628652307, array([3, 3, 3, ..., 3, 3, 3])]], dtype=object)"
      ]
     },
     "execution_count": 1,
     "metadata": {},
     "output_type": "execute_result"
    }
   ],
   "source": [
    "import numpy as np\n",
    "\n",
    "index = np.load(\"/home/jovyan/Sample_Based_Extension/UNSW/best_defense_indices.npy\", allow_pickle=True)\n",
    "index\n"
   ]
  },
  {
   "cell_type": "code",
   "execution_count": 2,
   "id": "38d102b4-524f-4445-9609-6e33993d29b4",
   "metadata": {},
   "outputs": [],
   "source": [
    "attack_models = [\n",
    "    (\"BIM\", [0.1]),\n",
    "    (\"FGSM\", [0.1]),\n",
    "    (\"PGD\", [0.1]),\n",
    "    (\"DF\", [0.1]),\n",
    "    (\"AutoPGD\", [0.1]),\n",
    "    (\"ZOO\", [0.1]),\n",
    "    (\"CaFA\", [0.1]),\n",
    "    (\"SINIFGSM\", [0.1]),\n",
    "    (\"VNIFGSM\", [0.1]),\n",
    "]\n",
    "\n",
    "all_adv_examples = []\n",
    "\n",
    "for attack_name, epsilons in attack_models:\n",
    "    for epsilon in epsilons:\n",
    "        filename = f'/home/jovyan/Sample_Based_Extension/UNSW/transfer_attack/x_test_adv_{attack_name}_eps_{epsilon}.npy'\n",
    "        x_test_adv = np.load(filename)\n",
    "        all_adv_examples.append(x_test_adv)\n",
    "\n",
    "x_test_adv_0_1 = np.concatenate(all_adv_examples, axis=0)\n"
   ]
  },
  {
   "cell_type": "code",
   "execution_count": 3,
   "id": "5ee98e20-6b06-4ccb-945a-9fbbf918ba7f",
   "metadata": {},
   "outputs": [],
   "source": [
    "y_labels = []\n",
    "\n",
    "for row in index:\n",
    "    attack_name, eps = row[0], row[1]\n",
    "    if eps == 0.1:\n",
    "        y_array = row[-1]\n",
    "        y_labels.append(y_array)\n",
    "\n",
    "y_label_0_1 = np.concatenate(y_labels, axis=0)"
   ]
  },
  {
   "cell_type": "code",
   "execution_count": 4,
   "id": "f5c65100-c378-4dc2-bea4-a518639b94cc",
   "metadata": {},
   "outputs": [
    {
     "name": "stdout",
     "output_type": "stream",
     "text": [
      "defense '1' encode 0\n",
      "defense '2' encode 1\n",
      "defense '3' encode 2\n",
      "defense '4' encode 3\n",
      "defense '5' encode 4\n",
      "defense '6' encode 5\n",
      "defense '7' encode 6\n",
      "defense '8' encode 7\n",
      "defense '9' encode 8\n",
      "defense '10' encode 9\n",
      "defense '11' encode 10\n"
     ]
    }
   ],
   "source": [
    "from sklearn.preprocessing import LabelEncoder\n",
    "\n",
    "label_encoder = LabelEncoder()\n",
    "label_encoder.fit(y_label_0_1)\n",
    "\n",
    "y_label_0_1 = label_encoder.transform(y_label_0_1)\n",
    "\n",
    "for index, class_label in enumerate(label_encoder.classes_):\n",
    "    print(f\"defense '{class_label}' encode {index}\")"
   ]
  },
  {
   "cell_type": "code",
   "execution_count": 5,
   "id": "d6a31227-e476-4c2e-ad35-c172c776866f",
   "metadata": {},
   "outputs": [
    {
     "data": {
      "text/plain": [
       "(2148777, 42)"
      ]
     },
     "execution_count": 5,
     "metadata": {},
     "output_type": "execute_result"
    }
   ],
   "source": [
    "x_test_adv_0_1.shape"
   ]
  },
  {
   "cell_type": "code",
   "execution_count": null,
   "id": "985acca8-c01b-430f-bce0-5a06485ad9a9",
   "metadata": {},
   "outputs": [
    {
     "name": "stdout",
     "output_type": "stream",
     "text": [
      "xgb\n"
     ]
    }
   ],
   "source": [
    "from xgboost import XGBClassifier\n",
    "\n",
    "print('xgb')\n",
    "xgb100 = XGBClassifier()\n",
    "xgb100.fit(x_test_adv_0_1, y_label_0_1)\n",
    "\n",
    "print(\"RF\")\n",
    "from sklearn.ensemble import RandomForestClassifier\n",
    "rf100 = RandomForestClassifier()\n",
    "rf100.fit(x_test_adv_0_1, y_label_0_1)\n",
    "\n",
    "print(\"DT\")\n",
    "from sklearn.tree import DecisionTreeClassifier\n",
    "dt100 = DecisionTreeClassifier()\n",
    "dt100.fit(x_test_adv_0_1, y_label_0_1)"
   ]
  },
  {
   "cell_type": "code",
   "execution_count": null,
   "id": "9b8a32d0-8db9-43a7-ad7a-8f9be3bd01c5",
   "metadata": {},
   "outputs": [],
   "source": [
    "import time\n",
    "import numpy as np\n",
    "\n",
    "y_test = np.load('/home/jovyan/Sample_Based_Extension/UNSW/y_test.npy')\n",
    "\n",
    "attack_models = [\n",
    "    (\"baseline\", [0]),\n",
    "    (\"BIM\", [0.01, 0.2, 0.3]),\n",
    "    (\"FGSM\", [0.01, 0.2, 0.3]),\n",
    "    (\"PGD\", [0.01, 0.2, 0.3]),\n",
    "    (\"DF\", [0.01, 0.2, 0.3]),\n",
    "    (\"AutoPGD\", [0.01, 0.2, 0.3]),\n",
    "    (\"ZOO\", [0.01, 0.2, 0.3]),\n",
    "    (\"CaFA\", [0.01, 0.2, 0.3]),\n",
    "    (\"SINIFGSM\", [0.01, 0.2, 0.3]),\n",
    "    (\"VNIFGSM\", [0.01, 0.2, 0.3]),\n",
    "]"
   ]
  },
  {
   "cell_type": "code",
   "execution_count": null,
   "id": "f9cbabd7-7a2d-4e42-95e9-578ee8c57e01",
   "metadata": {
    "scrolled": true
   },
   "outputs": [],
   "source": [
    "for attack_name, epsilons in attack_models:\n",
    "    start_time = time.time()\n",
    "    all_adv_examples = []\n",
    "    all_y = []\n",
    "    \n",
    "    if attack_name != \"baseline\":\n",
    "        for epsilon in epsilons:\n",
    "            filename = f'/home/jovyan/Sample_Based_Extension/UNSW/transfer_attack/x_test_adv_{attack_name}_eps_{epsilon}.npy'\n",
    "            x_test_adv = np.load(filename)\n",
    "            all_adv_examples.append(x_test_adv)\n",
    "            all_y.append(y_test)\n",
    "    \n",
    "        X = np.concatenate(all_adv_examples, axis=0)\n",
    "        y = np.concatenate(all_y, axis=0)\n",
    "    else:\n",
    "        X = np.load('/home/jovyan/Sample_Based_Extension/UNSW/x_test.npy')\n",
    "        y = np.load('/home/jovyan/Sample_Based_Extension/UNSW/y_test.npy')\n",
    "\n",
    "    y_pred = xgb100.predict(X)\n",
    "    print(y_pred.shape)\n",
    "    unique_classes, count = np.unique(y_pred, return_counts=True)\n",
    "    print(unique_classes, count)\n",
    "    for class_num in unique_classes:\n",
    "        indices = np.where(y_pred == class_num)[0]\n",
    "        X_class = X[indices]\n",
    "        y_class = y[indices]\n",
    "        print(X_class.shape, y_class.shape)\n",
    "    \n",
    "        x_filename = f\"/home/jovyan/Sample_Based_Extension/UNSW/UNSW_Dynamite_Selection_Data/XGB_ActiveLearning_BatchMode/UNSW_Input100/x_test_adv_{attack_name}_Def{class_num+1}.npy\"\n",
    "        y_filename = f\"/home/jovyan/Sample_Based_Extension/UNSW/UNSW_Dynamite_Selection_Data/XGB_ActiveLearning_BatchMode/UNSW_Input100/y_test_adv_{attack_name}_Def{class_num+1}.npy\"\n",
    "        \n",
    "        np.save(x_filename, X_class)\n",
    "        np.save(y_filename, y_class)\n",
    "    \n",
    "        print(f\"Save {class_num} to {attack_name}_Def{class_num+1}.npy\")\n",
    "\n",
    "    end_time = time.time()\n",
    "    result = end_time - start_time\n",
    "    print(f\"Execution Time: {result:.6f} seconds\")\n",
    "    "
   ]
  },
  {
   "cell_type": "code",
   "execution_count": null,
   "id": "f684865e-9184-4d20-b303-7536d3a1f321",
   "metadata": {
    "scrolled": true
   },
   "outputs": [],
   "source": [
    "for attack_name, epsilons in attack_models:\n",
    "    start_time = time.time()\n",
    "    all_adv_examples = []\n",
    "    all_y = []\n",
    "    \n",
    "    if attack_name != \"baseline\":\n",
    "        for epsilon in epsilons:\n",
    "            filename = f'/home/jovyan/Sample_Based_Extension/UNSW/transfer_attack/x_test_adv_{attack_name}_eps_{epsilon}.npy'\n",
    "            x_test_adv = np.load(filename)\n",
    "            all_adv_examples.append(x_test_adv)\n",
    "            all_y.append(y_test)\n",
    "    \n",
    "        X = np.concatenate(all_adv_examples, axis=0)\n",
    "        y = np.concatenate(all_y, axis=0)\n",
    "    else:\n",
    "        X = np.load('/home/jovyan/Sample_Based_Extension/UNSW/x_test.npy')\n",
    "        y = np.load('/home/jovyan/Sample_Based_Extension/UNSW/y_test.npy')\n",
    "\n",
    "    y_pred = rf100.predict(X)\n",
    "    print(y_pred.shape)\n",
    "    unique_classes, count = np.unique(y_pred, return_counts=True)\n",
    "    print(unique_classes, count)\n",
    "    for class_num in unique_classes:\n",
    "        indices = np.where(y_pred == class_num)[0]\n",
    "        X_class = X[indices]\n",
    "        y_class = y[indices]\n",
    "        print(X_class.shape, y_class.shape)\n",
    "    \n",
    "        x_filename = f\"/home/jovyan/Sample_Based_Extension/UNSW/UNSW_Dynamite_Selection_Data/RF_ActiveLearning_BatchMode/UNSW_Input100/x_test_adv_{attack_name}_Def{class_num+1}.npy\"\n",
    "        y_filename = f\"/home/jovyan/Sample_Based_Extension/UNSW/UNSW_Dynamite_Selection_Data/RF_ActiveLearning_BatchMode/UNSW_Input100/y_test_adv_{attack_name}_Def{class_num+1}.npy\"\n",
    "        \n",
    "        np.save(x_filename, X_class)\n",
    "        np.save(y_filename, y_class)\n",
    "    \n",
    "        print(f\"Save {class_num} to {attack_name}_Def{class_num+1}.npy\")\n",
    "\n",
    "    end_time = time.time()\n",
    "    result = end_time - start_time\n",
    "    print(f\"Execution Time: {result:.6f} seconds\")\n",
    "    "
   ]
  },
  {
   "cell_type": "code",
   "execution_count": null,
   "id": "fa7b6c50-e4e3-4517-bdd6-c867bc0bdd7f",
   "metadata": {
    "scrolled": true
   },
   "outputs": [],
   "source": [
    "for attack_name, epsilons in attack_models:\n",
    "    start_time = time.time()\n",
    "    all_adv_examples = []\n",
    "    all_y = []\n",
    "    \n",
    "    if attack_name != \"baseline\":\n",
    "        for epsilon in epsilons:\n",
    "            filename = f'/home/jovyan/Sample_Based_Extension/UNSW/transfer_attack/x_test_adv_{attack_name}_eps_{epsilon}.npy'\n",
    "            x_test_adv = np.load(filename)\n",
    "            all_adv_examples.append(x_test_adv)\n",
    "            all_y.append(y_test)\n",
    "    \n",
    "        X = np.concatenate(all_adv_examples, axis=0)\n",
    "        y = np.concatenate(all_y, axis=0)\n",
    "    else:\n",
    "        X = np.load('/home/jovyan/Sample_Based_Extension/UNSW/x_test.npy')\n",
    "        y = np.load('/home/jovyan/Sample_Based_Extension/UNSW/y_test.npy')\n",
    "\n",
    "    y_pred = dt100.predict(X)\n",
    "    print(y_pred.shape)\n",
    "    unique_classes, count = np.unique(y_pred, return_counts=True)\n",
    "    print(unique_classes, count)\n",
    "    for class_num in unique_classes:\n",
    "        indices = np.where(y_pred == class_num)[0]\n",
    "        X_class = X[indices]\n",
    "        y_class = y[indices]\n",
    "        print(X_class.shape, y_class.shape)\n",
    "    \n",
    "        x_filename = f\"/home/jovyan/Sample_Based_Extension/UNSW/UNSW_Dynamite_Selection_Data/DT_ActiveLearning_BatchMode/UNSW_Input100/x_test_adv_{attack_name}_Def{class_num+1}.npy\"\n",
    "        y_filename = f\"/home/jovyan/Sample_Based_Extension/UNSW/UNSW_Dynamite_Selection_Data/DT_ActiveLearning_BatchMode/UNSW_Input100/y_test_adv_{attack_name}_Def{class_num+1}.npy\"\n",
    "        \n",
    "        np.save(x_filename, X_class)\n",
    "        np.save(y_filename, y_class)\n",
    "    \n",
    "        print(f\"Save {class_num} to {attack_name}_Def{class_num+1}.npy\")\n",
    "\n",
    "    end_time = time.time()\n",
    "    result = end_time - start_time\n",
    "    print(f\"Execution Time: {result:.6f} seconds\")\n",
    "    "
   ]
  },
  {
   "cell_type": "code",
   "execution_count": null,
   "id": "0713656a-9ff9-4214-88fc-d81dd6c0637d",
   "metadata": {},
   "outputs": [],
   "source": [
    "import numpy as np\n",
    "\n",
    "\n",
    "attack_names = [\n",
    "    \"baseline\", \n",
    "    \"BIM\", \"FGSM\", \"PGD\", \"DF\",\n",
    "    \"AutoPGD\", \"ZOO\", \"CaFA\", \"SINIFGSM\", \"VNIFGSM\"\n",
    "]\n",
    "\n",
    "all_attack_list = []\n",
    "\n",
    "model_name_list = [\"XGB\", \"RF\", \"DT\"]\n",
    "\n",
    "for m_name in model_name_list:\n",
    "    for attack_name in attack_names:\n",
    "        each = []\n",
    "        num = 0\n",
    "        each.append(f\"{m_name}100\")\n",
    "        for i in range(1, 12):\n",
    "            y_filename = f\"/home/jovyan/Sample_Based_Extension/UNSW/UNSW_Dynamite_Selection_Data/{m_name}_ActiveLearning_BatchMode/UNSW_Input100/x_test_adv_{attack_name}_Def{i}.npy\"\n",
    "            try:\n",
    "                y = np.load(y_filename)\n",
    "                num+=y.shape[0]\n",
    "                each.append(y.shape[0])\n",
    "            except FileNotFoundError:\n",
    "                each.append(0)\n",
    "        each.append(num)\n",
    "        all_attack_list.append(each)\n"
   ]
  },
  {
   "cell_type": "code",
   "execution_count": null,
   "id": "6ec4f682-a6e1-4143-a753-b85cfc10873e",
   "metadata": {},
   "outputs": [],
   "source": [
    "import pandas as pd\n",
    "all_attack_list = pd.DataFrame(all_attack_list)\n",
    "all_attack_list.to_csv(\"./Dynamite_Num_Attack_Input100_ActiveLearning_BatchMode.csv\")"
   ]
  },
  {
   "cell_type": "code",
   "execution_count": null,
   "id": "57f2b654-be28-439b-96aa-cc9e3507e46e",
   "metadata": {},
   "outputs": [],
   "source": [
    "all_attack_list"
   ]
  },
  {
   "cell_type": "code",
   "execution_count": null,
   "id": "3e122240-62dd-4742-ad7c-d7a627430a3f",
   "metadata": {},
   "outputs": [],
   "source": []
  }
 ],
 "metadata": {
  "kernelspec": {
   "display_name": "Python 3 (ipykernel)",
   "language": "python",
   "name": "python3"
  },
  "language_info": {
   "codemirror_mode": {
    "name": "ipython",
    "version": 3
   },
   "file_extension": ".py",
   "mimetype": "text/x-python",
   "name": "python",
   "nbconvert_exporter": "python",
   "pygments_lexer": "ipython3",
   "version": "3.12.8"
  }
 },
 "nbformat": 4,
 "nbformat_minor": 5
}
